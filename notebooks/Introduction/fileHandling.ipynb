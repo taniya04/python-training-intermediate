{
 "cells": [
  {
   "cell_type": "markdown",
   "metadata": {},
   "source": [
    "**tempfile** \n"
   ]
  },
  {
   "cell_type": "markdown",
   "metadata": {},
   "source": [
    "Helps making temporary files/dir. \n",
    "\n",
    "Benefits - Helps in testing/ mocking meaning we are not doing anything with real storage. "
   ]
  },
  {
   "cell_type": "markdown",
   "metadata": {},
   "source": [
    "**shutil**"
   ]
  },
  {
   "cell_type": "markdown",
   "metadata": {},
   "source": [
    "Helps in copying the file or copying the metadata.\n",
    "copyfile() \n",
    "copy2()\n",
    "copytree() -- Recursive copy meaning copy directories\n",
    "copymode() -- just to bring permissions"
   ]
  },
  {
   "cell_type": "code",
   "execution_count": null,
   "metadata": {},
   "outputs": [],
   "source": [
    "import sys\n",
    "import shutil\n",
    "\n",
    "if len(sys.argv) != 3:\n",
    "    print(sys.argv[0], \"src dst\", file=sys.stderr)\n",
    "    sys.exit(1)\n",
    "\n",
    "try:\n",
    "    shutil.copy(sys.argv[1], sys.argv[2])\n",
    "except:\n",
    "    print(\"   Exception class: \", str(sys.exc_info()[0]).split(\"'\")[1], file=sys.stderr)\n",
    "    print(\"Specific Exception: \", str(sys.exc_info()[1]), file=sys.stderr)\n",
    "    sys.exit(2)"
   ]
  }
 ],
 "metadata": {
  "kernelspec": {
   "display_name": "Python 3",
   "language": "python",
   "name": "python3"
  },
  "language_info": {
   "codemirror_mode": {
    "name": "ipython",
    "version": 3
   },
   "file_extension": ".py",
   "mimetype": "text/x-python",
   "name": "python",
   "nbconvert_exporter": "python",
   "pygments_lexer": "ipython3",
   "version": "3.10.8"
  },
  "orig_nbformat": 4
 },
 "nbformat": 4,
 "nbformat_minor": 2
}
