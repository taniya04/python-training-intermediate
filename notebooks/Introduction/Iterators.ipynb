{
 "cells": [
  {
   "cell_type": "markdown",
   "metadata": {
    "tags": []
   },
   "source": [
    "# Iteration\n",
    "We can write our own Iterator, there are 3 ways to do it. Write your own\n",
    "\n",
    " a.```python __iter__```: returns the object itself\n",
    "\n",
    "  b. ```python __next__  ```: returns the next item\n",
    "\n",
    "If all items have been iterated then it will raise an exception as StopIteration\n",
    "What does it mean to be Iterable? - Access components by 1 on 1 basis"
   ]
  },
  {
   "cell_type": "markdown",
   "metadata": {},
   "source": [
    "**Part I: Iterator Protocol**"
   ]
  },
  {
   "cell_type": "code",
   "execution_count": 2,
   "metadata": {},
   "outputs": [
    {
     "ename": "TypeError",
     "evalue": "'str_iterator' object is not subscriptable",
     "output_type": "error",
     "traceback": [
      "\u001b[0;31m---------------------------------------------------------------------------\u001b[0m",
      "\u001b[0;31mTypeError\u001b[0m                                 Traceback (most recent call last)",
      "Cell \u001b[0;32mIn[2], line 5\u001b[0m\n\u001b[1;32m      2\u001b[0m iname\u001b[39m=\u001b[39m\u001b[39miter\u001b[39m(name)\n\u001b[1;32m      3\u001b[0m \u001b[39mtype\u001b[39m(iname)\n\u001b[0;32m----> 5\u001b[0m iname[\u001b[39m0\u001b[39;49m]\n",
      "\u001b[0;31mTypeError\u001b[0m: 'str_iterator' object is not subscriptable"
     ]
    }
   ],
   "source": [
    "name='Taniya'\n",
    "iname=iter(name)\n",
    "type(iname)\n",
    "\n",
    "iname[0]"
   ]
  },
  {
   "cell_type": "markdown",
   "metadata": {},
   "source": [
    ">iname is not a string , it is a string iterator"
   ]
  },
  {
   "cell_type": "code",
   "execution_count": 14,
   "metadata": {},
   "outputs": [
    {
     "data": {
      "text/plain": [
       "3"
      ]
     },
     "execution_count": 14,
     "metadata": {},
     "output_type": "execute_result"
    }
   ],
   "source": [
    "a = [ 1, 2, 3]\n",
    "b = a.__iter__()\n",
    "b.__next__() # see 1\n",
    "b.__next__() # see 2\n",
    "b.__next__() # see 3"
   ]
  },
  {
   "cell_type": "code",
   "execution_count": 15,
   "metadata": {},
   "outputs": [
    {
     "ename": "StopIteration",
     "evalue": "",
     "output_type": "error",
     "traceback": [
      "\u001b[0;31m---------------------------------------------------------------------------\u001b[0m",
      "\u001b[0;31mStopIteration\u001b[0m                             Traceback (most recent call last)",
      "Cell \u001b[0;32mIn[15], line 1\u001b[0m\n\u001b[0;32m----> 1\u001b[0m b\u001b[39m.\u001b[39;49m\u001b[39m__next__\u001b[39;49m() \u001b[39m# see StopIteration exception\u001b[39;00m\n",
      "\u001b[0;31mStopIteration\u001b[0m: "
     ]
    }
   ],
   "source": [
    "\n",
    "\n",
    "b.__next__() # see StopIteration exception"
   ]
  },
  {
   "cell_type": "markdown",
   "metadata": {},
   "source": [
    "Once iterator has been consumed , only way to restart is assign it again. \n"
   ]
  },
  {
   "cell_type": "markdown",
   "metadata": {},
   "source": [
    "**Part II: for Statement Iterations**"
   ]
  },
  {
   "cell_type": "markdown",
   "metadata": {},
   "source": [
    "for variable in iterable:\n",
    "    statements\n",
    "\n",
    "String/Sets/ everythign have __iter__ , __next__ which is the reason we see the below data"
   ]
  },
  {
   "cell_type": "code",
   "execution_count": 17,
   "metadata": {},
   "outputs": [
    {
     "name": "stdout",
     "output_type": "stream",
     "text": [
      "a\n",
      "b\n",
      "c\n",
      "d\n"
     ]
    }
   ],
   "source": [
    "for q in 'abcd':\n",
    " print(q)"
   ]
  },
  {
   "cell_type": "code",
   "execution_count": 18,
   "metadata": {},
   "outputs": [
    {
     "name": "stdout",
     "output_type": "stream",
     "text": [
      "1\n",
      "2\n",
      "3\n",
      "4\n"
     ]
    }
   ],
   "source": [
    "for q in [1,2,3,4]:\n",
    "    print(q)"
   ]
  },
  {
   "cell_type": "markdown",
   "metadata": {},
   "source": [
    "**Part III: Programming Problem**"
   ]
  },
  {
   "cell_type": "markdown",
   "metadata": {},
   "source": [
    "The open function when used to open a text file returns a TextIOWrapper object which is iterable.\n",
    "line is iterated over the lines of ..//data/atlantis.csv"
   ]
  },
  {
   "cell_type": "code",
   "execution_count": 26,
   "metadata": {},
   "outputs": [
    {
     "name": "stdout",
     "output_type": "stream",
     "text": [
      "<_io.TextIOWrapper name='../../data/atlantis.csv' mode='r' encoding='UTF-8'>\n"
     ]
    }
   ],
   "source": [
    "with(open('../../data/atlantis.csv','r')) as file:\n",
    "    print(file)"
   ]
  },
  {
   "cell_type": "code",
   "execution_count": 33,
   "metadata": {},
   "outputs": [
    {
     "name": "stdout",
     "output_type": "stream",
     "text": [
      "atlantis.csv has 23 lines\n"
     ]
    }
   ],
   "source": [
    "count=0\n",
    "fname='atlantis.csv'\n",
    "with(open('../../data/'+fname,'rt')) as file:\n",
    "    for line in file:\n",
    "        #print(line)\n",
    "        count=count+1\n",
    "print(fname, 'has',count,'lines' )"
   ]
  },
  {
   "cell_type": "code",
   "execution_count": 25,
   "metadata": {},
   "outputs": [
    {
     "name": "stdout",
     "output_type": "stream",
     "text": [
      "year,population\n",
      "\n",
      "2000,12400\n",
      "\n",
      "2001,12800\n",
      "\n",
      "2002,13800\n",
      "\n",
      "2003,13600\n",
      "\n",
      "2004,14200\n",
      "\n",
      "2005,15600\n",
      "\n",
      "2006,17600\n",
      "\n",
      "2007,19200\n",
      "\n",
      "2008,20300\n",
      "\n",
      "2009,20800\n",
      "\n",
      "2010,21200\n",
      "\n",
      "2011,22400\n",
      "\n",
      "2012,23400\n",
      "\n",
      "2013,24500\n",
      "\n",
      "2014,25800\n",
      "\n",
      "2015,26100\n",
      "\n",
      "2016,28300\n",
      "\n",
      "2017,29600\n",
      "\n",
      "2018,32100\n",
      "\n",
      "2019,32500\n",
      "\n",
      "2020,33200\n",
      "\n",
      "2021,33800\n",
      "\n"
     ]
    }
   ],
   "source": [
    "for line in open('../../data/atlantis.csv','r'):\n",
    "    print(line)"
   ]
  },
  {
   "cell_type": "markdown",
   "metadata": {},
   "source": [
    "**List Comprehension**"
   ]
  },
  {
   "cell_type": "code",
   "execution_count": 35,
   "metadata": {},
   "outputs": [
    {
     "name": "stdout",
     "output_type": "stream",
     "text": [
      "[0, 1, 2, 3, 4]\n",
      "[0, 1, 2, 3, 4]\n"
     ]
    }
   ],
   "source": [
    "a=[x for x in range(5)]\n",
    "b=[]\n",
    "\n",
    "for y in range(5):\n",
    "    b.append(y)\n",
    "print(b)\n",
    "print(a)"
   ]
  },
  {
   "cell_type": "code",
   "execution_count": 47,
   "metadata": {},
   "outputs": [
    {
     "name": "stdout",
     "output_type": "stream",
     "text": [
      "[1, 3]\n",
      "[1, 3]\n"
     ]
    }
   ],
   "source": [
    "a=[x for x in range(5) if  x%2] ## x%2 needs to be true-- if o/p is 0 then means False , 1 is True \n",
    "b=[]\n",
    "for y in range(5):\n",
    "    if y%2:\n",
    "        b.append(y)\n",
    "print(a)\n",
    "print(b)"
   ]
  },
  {
   "cell_type": "code",
   "execution_count": 53,
   "metadata": {},
   "outputs": [
    {
     "name": "stdout",
     "output_type": "stream",
     "text": [
      "[10, 11, 12, 13, 14, 11, 12, 13, 14, 15, 12, 13, 14, 15, 16, 13, 14, 15, 16, 17, 14, 15, 16, 17, 18]\n",
      "[10, 11, 12, 13, 14, 11, 12, 13, 14, 15, 12, 13, 14, 15, 16, 13, 14, 15, 16, 17, 14, 15, 16, 17, 18]\n"
     ]
    }
   ],
   "source": [
    "#Nested Loops\n",
    "a=[x+y for x in range(5) for y in range(10,15)]\n",
    "b=[]\n",
    "for x in range(5):\n",
    "    for y in range(10,15):\n",
    "        c=x+y\n",
    "        b.append(c)\n",
    "print(a)\n",
    "print(b)"
   ]
  },
  {
   "cell_type": "code",
   "execution_count": 56,
   "metadata": {},
   "outputs": [
    {
     "name": "stdout",
     "output_type": "stream",
     "text": [
      "(0, 10)\n"
     ]
    }
   ],
   "source": [
    "#zip process 2 parallel variable \n",
    "x,y=range(5),range(10,15)\n",
    "c=zip(x,y)\n",
    "print(next(c))#(0, 10)"
   ]
  },
  {
   "cell_type": "code",
   "execution_count": 57,
   "metadata": {},
   "outputs": [
    {
     "name": "stdout",
     "output_type": "stream",
     "text": [
      "(1, 11)\n"
     ]
    }
   ],
   "source": [
    "print(next(c))#(1, 11)"
   ]
  },
  {
   "cell_type": "markdown",
   "metadata": {},
   "source": [
    "**Dictionary Comprehension**"
   ]
  },
  {
   "cell_type": "markdown",
   "metadata": {},
   "source": [
    "A dictionary comprehension is a compact way to process all or part of the elements in a collection \n",
    "and return a dictionary as a result.\n",
    "\n",
    "It is a key,value pair and is indexed with key. It is mutable that means we can remove key,value pair."
   ]
  },
  {
   "cell_type": "code",
   "execution_count": 64,
   "metadata": {},
   "outputs": [
    {
     "name": "stdout",
     "output_type": "stream",
     "text": [
      "dict_keys([1, 2])\n",
      "dict_items([(1, 'one'), (2, 'two')])\n"
     ]
    }
   ],
   "source": [
    "a={1:\"one\",2:\"two\"}\n",
    "a_keys=a.keys()\n",
    "print(a_keys) #dict_keys([1, 2])\n",
    "a_items=a.items()\n",
    "a_values=a.values()\n",
    "print(a_items)"
   ]
  },
  {
   "cell_type": "code",
   "execution_count": 65,
   "metadata": {},
   "outputs": [
    {
     "name": "stdout",
     "output_type": "stream",
     "text": [
      "dict_items([(1, 'one'), (2, 'two'), (3, 'three')])\n",
      "dict_keys([1, 2, 3])\n",
      "dict_values(['one', 'two', 'three'])\n"
     ]
    }
   ],
   "source": [
    "a[3]=\"three\"\n",
    "print(a_items) ##a_items/a_keys/a_values is a view of the objects a.\n",
    "print(a_keys)\n",
    "print(a_values)"
   ]
  },
  {
   "cell_type": "code",
   "execution_count": 68,
   "metadata": {},
   "outputs": [
    {
     "data": {
      "text/plain": [
       "{'APPLE': 2, 'MANGO': 4, 'GRAPE': 6}"
      ]
     },
     "execution_count": 68,
     "metadata": {},
     "output_type": "execute_result"
    }
   ],
   "source": [
    "fruits=['apple','mango','grape']\n",
    "count=[1,2,3]\n",
    "a_dict={key:value for key,value in zip(fruits,count)}\n",
    "a_dict\n",
    "b_dict={key.upper():value*2 for key,value in a_dict.items()}\n",
    "b_dict"
   ]
  },
  {
   "cell_type": "code",
   "execution_count": 88,
   "metadata": {},
   "outputs": [
    {
     "name": "stdout",
     "output_type": "stream",
     "text": [
      "{'Cats': 300, 'Dogs': 254, 'Fish': 157}\n",
      "{'CATS': 330.0, 'DOGS': 279.4, 'FISH': 172.7}\n"
     ]
    }
   ],
   "source": [
    "''' Create a tuple of tuples called pages from the following two columns.\n",
    "Cats 300\n",
    "Dogs 254\n",
    "Fish 157'''\n",
    "\n",
    "x=['Cats','Dogs','Fish']\n",
    "y=[300,254,157]\n",
    "pages={key:value for key,value in zip(x,y)}\n",
    "print(pages)\n",
    "# Adding 10% to pages\n",
    "b_dict={key.upper():value+(value*0.10) for key,value in zip(x,y)}\n",
    "print(b_dict)\n"
   ]
  },
  {
   "cell_type": "code",
   "execution_count": 103,
   "metadata": {},
   "outputs": [
    {
     "name": "stdout",
     "output_type": "stream",
     "text": [
      "{'CATS': 330.0, 'DOGS': 279.4}\n",
      "{'CATS': 330, 'DOGS': 280}\n"
     ]
    }
   ],
   "source": [
    "#Add the key value pair only when page count is > 275\n",
    "import math\n",
    "c_dict={key:value for key,value in b_dict.items() if value > 275}\n",
    "print(c_dict)\n",
    "\n",
    "#Rounding of values using ceil\n",
    "d_dict={key:math.ceil(value) for key,value in c_dict.items()}\n",
    "print(d_dict)\n"
   ]
  }
 ],
 "metadata": {
  "kernelspec": {
   "display_name": "Python 3",
   "language": "python",
   "name": "python3"
  },
  "language_info": {
   "codemirror_mode": {
    "name": "ipython",
    "version": 3
   },
   "file_extension": ".py",
   "mimetype": "text/x-python",
   "name": "python",
   "nbconvert_exporter": "python",
   "pygments_lexer": "ipython3",
   "version": "3.10.8"
  },
  "orig_nbformat": 4
 },
 "nbformat": 4,
 "nbformat_minor": 2
}
