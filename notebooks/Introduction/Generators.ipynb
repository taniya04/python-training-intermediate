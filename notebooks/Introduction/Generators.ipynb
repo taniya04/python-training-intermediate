{
 "cells": [
  {
   "cell_type": "markdown",
   "metadata": {},
   "source": [
    "**Generator Expressions**"
   ]
  },
  {
   "cell_type": "markdown",
   "metadata": {},
   "source": [
    "A generator expression is the same as a list comprehension with three exceptions\n",
    "1. It creates an iterator \n",
    "2. It uses () instead of []\n",
    "3. A generator expression can be used once and then it must be recreated\n"
   ]
  },
  {
   "cell_type": "code",
   "execution_count": 1,
   "metadata": {},
   "outputs": [
    {
     "name": "stdout",
     "output_type": "stream",
     "text": [
      "0\n",
      "1\n",
      "2\n",
      "3\n",
      "4\n"
     ]
    }
   ],
   "source": [
    "a = ( x for x in range(5) )\n",
    "for b in a:\n",
    "    print(b)"
   ]
  },
  {
   "cell_type": "code",
   "execution_count": 3,
   "metadata": {},
   "outputs": [],
   "source": [
    "for c in a:\n",
    "    print(c) ##No Output bcoz it is taking data from a which has already completed. "
   ]
  },
  {
   "cell_type": "markdown",
   "metadata": {},
   "source": [
    "**Generator Functions**"
   ]
  },
  {
   "cell_type": "markdown",
   "metadata": {},
   "source": [
    "A generator function is a function that returns an iterator"
   ]
  },
  {
   "cell_type": "code",
   "execution_count": 7,
   "metadata": {},
   "outputs": [
    {
     "name": "stdout",
     "output_type": "stream",
     "text": [
      "1 one\n",
      "1 two\n",
      "1 three\n",
      "2 four\n",
      "2 five\n",
      "3 six\n",
      "3 seven\n",
      "3 eight\n",
      "4 nine\n",
      "4 ten\n",
      "That's all folks!\n"
     ]
    }
   ],
   "source": [
    "\"\"\"\n",
    "Function: An explorataion of function generator\n",
    "\"\"\"\n",
    "\n",
    "def getword(path):\n",
    "    fin = open(path, 'r')\n",
    "    line_number =0\n",
    "    for line in fin:\n",
    "        line_number += 1\n",
    "        for word in line.split():\n",
    "            yield (line_number, word)\n",
    "\n",
    "\n",
    "a = getword('../../data/testData.tab')\n",
    "\n",
    "for line_word in a:\n",
    "    print(line_word[0], line_word[1])\n",
    "    \n",
    "print(\"That's all folks!\")\n"
   ]
  },
  {
   "cell_type": "markdown",
   "metadata": {},
   "source": [
    "In Above example , file is never closed so got all the data. In below example , after the data is yielded then we are passing as a.close which means the generator wil get closed. The program will never even go to the print(\"back from close\") statement"
   ]
  },
  {
   "cell_type": "code",
   "execution_count": 8,
   "metadata": {},
   "outputs": [
    {
     "name": "stdout",
     "output_type": "stream",
     "text": [
      "1 one\n",
      "1 two\n",
      "1 three\n",
      "2 four\n",
      "2 five\n",
      "3 six\n",
      "That's all folks!\n"
     ]
    }
   ],
   "source": [
    "def getword(path):\n",
    "    fin = open(path, 'r')\n",
    "    line_number =0\n",
    "    for line in fin:\n",
    "        line_number += 1\n",
    "        for word in line.split():\n",
    "            yield (line_number, word)\n",
    "    print(\"back from close\")\n",
    "    fin.close()\n",
    "        \n",
    "a = getword('../../data/testData.tab')\n",
    "\n",
    "for line_word in a:\n",
    "    if line_word[1] == 'six':\n",
    "        a.close()\n",
    "    print(line_word[0], line_word[1])\n",
    "    \n",
    "print(\"That's all folks!\")"
   ]
  },
  {
   "cell_type": "code",
   "execution_count": 9,
   "metadata": {},
   "outputs": [
    {
     "name": "stdout",
     "output_type": "stream",
     "text": [
      "1 one\n",
      "1 two\n",
      "1 three\n",
      "2 four\n",
      "2 five\n",
      "4 nine\n",
      "4 ten\n",
      "That's all folks!\n"
     ]
    }
   ],
   "source": [
    "\n",
    "def getword(path):\n",
    "    fin = open(path, 'r')\n",
    "    line_number = 0\n",
    "    for line in fin:\n",
    "        line_number += 1\n",
    "        for word in line.split():\n",
    "            control = yield (line_number, word)\n",
    "            if control == 'next': break\n",
    "        \n",
    "\n",
    "a = getword('../../data/testData.tab')\n",
    "\n",
    "for line_word in a:\n",
    "    if line_word[1] == 'six':\n",
    "        line_word = a.send('next')\n",
    "    print(line_word[0], line_word[1])\n",
    "    \n",
    "print(\"That's all folks!\")"
   ]
  },
  {
   "cell_type": "markdown",
   "metadata": {},
   "source": [
    "in above example , we are sending a signal to the Producer.  Producer will listen the message of the Consumer and run the if statment where it will break from the inner loop. Program will come to the outer loop and increment the line_number. Due to this we dont see 'six' in output."
   ]
  }
 ],
 "metadata": {
  "kernelspec": {
   "display_name": "Python 3",
   "language": "python",
   "name": "python3"
  },
  "language_info": {
   "codemirror_mode": {
    "name": "ipython",
    "version": 3
   },
   "file_extension": ".py",
   "mimetype": "text/x-python",
   "name": "python",
   "nbconvert_exporter": "python",
   "pygments_lexer": "ipython3",
   "version": "3.10.8"
  },
  "orig_nbformat": 4
 },
 "nbformat": 4,
 "nbformat_minor": 2
}
