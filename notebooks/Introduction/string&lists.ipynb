{
 "cells": [
  {
   "cell_type": "code",
   "execution_count": 10,
   "metadata": {},
   "outputs": [
    {
     "name": "stdout",
     "output_type": "stream",
     "text": [
      "2\n",
      "1\n"
     ]
    }
   ],
   "source": [
    "str='Taniya'\n",
    "print(str.index('n'))\n",
    "li=['tan','per']\n",
    "print(li.index('per'))"
   ]
  },
  {
   "cell_type": "code",
   "execution_count": 13,
   "metadata": {},
   "outputs": [
    {
     "name": "stdout",
     "output_type": "stream",
     "text": [
      "[10, 9, 5, 4, 3, 2, 1, 1]\n"
     ]
    }
   ],
   "source": [
    "'''sorting the list in decending order'''\n",
    "li1=[1,2,3,1,5,4,10,9]\n",
    "li1.sort(reverse=True)\n",
    "print(li1)"
   ]
  },
  {
   "cell_type": "code",
   "execution_count": 18,
   "metadata": {},
   "outputs": [
    {
     "name": "stdout",
     "output_type": "stream",
     "text": [
      "[2.1, 3.1, 1, 5, 4, 10, 9]\n",
      "[2.1, 1, 5, 4, 10, 9]\n",
      "[2.1, 5, 4, 10, 9]\n"
     ]
    }
   ],
   "source": [
    "'''Removing an element from the list'''\n",
    "li=[1.1,2.1,3.1,1,5,4,10,9]\n",
    "li.pop(0)\n",
    "print(li)\n",
    "li.remove(3.1)\n",
    "print(li)\n",
    "del li[1]\n",
    "print(li)"
   ]
  },
  {
   "cell_type": "code",
   "execution_count": 27,
   "metadata": {},
   "outputs": [
    {
     "name": "stdout",
     "output_type": "stream",
     "text": [
      "['tan per', 'tan gud', 'kar per', 'kar gud']\n",
      "['tan per', 'tan gud', 'kar per', 'kar gud']\n"
     ]
    }
   ],
   "source": [
    "'''concatenate every elements across lists'''\n",
    "import itertools\n",
    "list1=['tan','kar']\n",
    "list2=['per','gud']\n",
    "# forming pairs\n",
    "pair=itertools.product(list1,list2)\n",
    "# performing concatenation\n",
    "res=[' '.join(p) for p in pair]\n",
    "print(res)\n",
    "res=list(map(' '.join,itertools.product(list1,list2)))\n",
    "print(res)"
   ]
  },
  {
   "cell_type": "code",
   "execution_count": 7,
   "metadata": {},
   "outputs": [
    {
     "name": "stdout",
     "output_type": "stream",
     "text": [
      "fedcba\n",
      "fedcba\n"
     ]
    }
   ],
   "source": [
    "'''Reverse A String'''\n",
    "str='abcdef'\n",
    "reverse_str=\"\".join(reversed(str))\n",
    "print(reverse_str)\n",
    "print(str[::-1])"
   ]
  }
 ],
 "metadata": {
  "kernelspec": {
   "display_name": "Python 3",
   "language": "python",
   "name": "python3"
  },
  "language_info": {
   "codemirror_mode": {
    "name": "ipython",
    "version": 3
   },
   "file_extension": ".py",
   "mimetype": "text/x-python",
   "name": "python",
   "nbconvert_exporter": "python",
   "pygments_lexer": "ipython3",
   "version": "3.10.13"
  }
 },
 "nbformat": 4,
 "nbformat_minor": 2
}
