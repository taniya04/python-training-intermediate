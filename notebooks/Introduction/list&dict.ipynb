{
 "cells": [
  {
   "cell_type": "code",
   "execution_count": 1,
   "metadata": {},
   "outputs": [
    {
     "data": {
      "text/plain": [
       "[('test', 3), (2, 1), (3, 2), (5, 1), (6, 2)]"
      ]
     },
     "execution_count": 1,
     "metadata": {},
     "output_type": "execute_result"
    }
   ],
   "source": [
    "'''Count of every element in the list'''\n",
    "input_li=[\"test\",\"test\",\"test\",2,3,3,6,5,6]\n",
    "set_input_li=set(input_li)\n",
    "\n",
    "output_li=[(word,input_li.count(word)) for word in set_input_li]\n",
    "output_li"
   ]
  },
  {
   "cell_type": "code",
   "execution_count": 1,
   "metadata": {},
   "outputs": [
    {
     "name": "stdout",
     "output_type": "stream",
     "text": [
      "SUCESS : 3\n",
      "PENDING : 1\n",
      "FAILED : 1\n"
     ]
    }
   ],
   "source": [
    "'''without using Counter'''\n",
    "input_l2=[[1,100,\"SUCESS\"],[2,200,\"PENDING\"],[3,500,\"FAILED\"],[4,600,\"SUCESS\"],[5,100,\"SUCESS\"]]\n",
    "output_dict_test={}\n",
    "for ele in input_l2:\n",
    "    status = ele[2]\n",
    "    if status in output_dict_test:\n",
    "        output_dict_test[status] += 1\n",
    "    else:\n",
    "        output_dict_test[status] = 1\n",
    "for status,count in output_dict_test.items():\n",
    "    print(f\"{status} : {count}\")"
   ]
  },
  {
   "cell_type": "code",
   "execution_count": 35,
   "metadata": {},
   "outputs": [
    {
     "name": "stdout",
     "output_type": "stream",
     "text": [
      "SUCESS : 3\n",
      "PENDING : 1\n",
      "FAILED : 1\n"
     ]
    }
   ],
   "source": [
    "'''count number of transactions in every status category'''\n",
    "from collections import Counter\n",
    "input_l1=[[1,100,\"SUCESS\"],[2,200,\"PENDING\"],[3,500,\"FAILED\"],[4,600,\"SUCESS\"],[5,100,\"SUCESS\"]]\n",
    "output_dict=Counter(ele[2] for ele in input_l1)\n",
    "for status,count in output_dict.items():\n",
    "    print(f\"{status} : {count}\")"
   ]
  },
  {
   "cell_type": "code",
   "execution_count": 8,
   "metadata": {},
   "outputs": [
    {
     "name": "stdout",
     "output_type": "stream",
     "text": [
      "{'IT': [1000, 2000], 'HR': [1000], 'FINANCE': [3000]}\n",
      "dict_items([('IT', [1000, 2000]), ('HR', [1000]), ('FINANCE', [3000])])\n",
      "IT : 1500.0\n",
      "HR : 1000.0\n",
      "FINANCE : 3000.0\n"
     ]
    }
   ],
   "source": [
    "'''calculate avg salary for every department'''\n",
    "from collections import defaultdict\n",
    "input_l3=[[101,\"john\",\"IT\",1000],[102,\"jacob\",\"IT\",2000],[103,\"jas\",\"HR\",1000],[101,\"riya\",\"FINANCE\",3000]]\n",
    "#dept_salary=defaultdict(list) '''can also use defaultdict directly'''\n",
    "dept_salary={}\n",
    "for employee_record in input_l3:\n",
    "    dept=employee_record[2]\n",
    "    salary=employee_record[3]\n",
    "    if dept in dept_salary:\n",
    "        dept_salary[dept].append(salary)\n",
    "    else:\n",
    "        dept_salary[dept]=[salary]\n",
    "    #dept_salary[dept].append(salary) ''usage of defaultdict'''\n",
    "print(dept_salary)\n",
    "print(dept_salary.items())\n",
    "for dept,salary in dept_salary.items():\n",
    "    avg_salary=sum(salary)/len(salary)\n",
    "    print(f'{dept} : {avg_salary}')"
   ]
  },
  {
   "cell_type": "markdown",
   "metadata": {},
   "source": [
    "Dictionary Comprehension"
   ]
  },
  {
   "cell_type": "code",
   "execution_count": 3,
   "metadata": {},
   "outputs": [
    {
     "name": "stdout",
     "output_type": "stream",
     "text": [
      "['customerid', 'customer_name', 'customer_age']\n",
      "customer data -\n",
      " {'1': (\"'joesph'\", '30'), '2': (\"'john'\", '35'), '3': (\"'riya'\", '25')}\n",
      "nested customer data -\n",
      " {'1': {'customer_name': \"'joesph'\", 'customer_age': '30'}, '2': {'customer_name': \"'john'\", 'customer_age': '35'}, '3': {'customer_name': \"'riya'\", 'customer_age': '25'}}\n",
      "Combined data of orders and customer - \n",
      "  [('111', '1', '2024-03-28', (\"'joesph'\", '30')), ('121', '2', '2024-03-25', (\"'john'\", '35')), ('221', '2', '2024-03-24', (\"'john'\", '35')), ('231', '3', '2024-03-28', (\"'riya'\", '25'))]\n"
     ]
    }
   ],
   "source": [
    "input_data=\"\"\"customerid,customer_name,customer_age\n",
    "1,'joesph',30\n",
    "2,'john',35\n",
    "3,'riya',25\"\"\"\n",
    "cust_header=input_data.split(\"\\n\")[0].split(\",\")\n",
    "print(cust_header)\n",
    "cust_data=input_data.split('\\n')[1:]\n",
    "cust_dict={}\n",
    "cust_dict={data.split(\",\")[0]: tuple(data.split(\",\")[1:]) for data in cust_data}\n",
    "print(\"customer data -\\n\",cust_dict)\n",
    "nested_dict={}\n",
    "for key,value in cust_dict.items():\n",
    "    nested_dict[key]={\n",
    "        cust_header[1]:value[0],#header index is from 1 bcoz cust_id is the key\n",
    "        cust_header[2]:value[1]\n",
    "    }\n",
    "print(\"nested customer data -\\n\",nested_dict)\n",
    "orders_input_data=\"\"\"orderid,customerid,order_dt\n",
    "111,1,2024-03-28\n",
    "121,2,2024-03-25\n",
    "221,2,2024-03-24\n",
    "231,3,2024-03-28\"\"\"\n",
    "order_header=orders_input_data.split(\"\\n\")[0].split(\",\")\n",
    "order_data=orders_input_data.split(\"\\n\")[1:]\n",
    "combined_result=[]\n",
    "for data in order_data:\n",
    "    order=data.split(\",\")\n",
    "    combined_result.append((order[0],order[1],order[2],cust_dict[order[1]]))\n",
    "    #combined_result.append((order,cust_dict[order[1]]))\n",
    "print(\"Combined data of orders and customer - \\n \",combined_result)"
   ]
  }
 ],
 "metadata": {
  "kernelspec": {
   "display_name": "Python 3",
   "language": "python",
   "name": "python3"
  },
  "language_info": {
   "codemirror_mode": {
    "name": "ipython",
    "version": 3
   },
   "file_extension": ".py",
   "mimetype": "text/x-python",
   "name": "python",
   "nbconvert_exporter": "python",
   "pygments_lexer": "ipython3",
   "version": "3.10.13"
  }
 },
 "nbformat": 4,
 "nbformat_minor": 2
}
