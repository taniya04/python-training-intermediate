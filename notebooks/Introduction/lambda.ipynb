{
 "cells": [
  {
   "cell_type": "markdown",
   "metadata": {},
   "source": [
    "Syntax: lambda arguments : expression\n",
    "\n",
    "This function is anonymous function , can have any number of arguments but only one expression, which is evaluated and returned."
   ]
  },
  {
   "cell_type": "code",
   "execution_count": 1,
   "metadata": {},
   "outputs": [
    {
     "name": "stdout",
     "output_type": "stream",
     "text": [
      "10\n",
      "20\n",
      "30\n",
      "40\n"
     ]
    }
   ],
   "source": [
    "obj=[lambda arg=x:arg*10 for x in range(1,5)]\n",
    "#here we are specifying that pass value of x in arg \n",
    "#obj will store lambda function object\n",
    "for item in obj:\n",
    "    print(item())"
   ]
  },
  {
   "cell_type": "code",
   "execution_count": 2,
   "metadata": {},
   "outputs": [
    {
     "name": "stdout",
     "output_type": "stream",
     "text": [
      "5\n"
     ]
    }
   ],
   "source": [
    "'''Max of 2 intergers'''\n",
    "func_obj=lambda x,y:x if (x>y) else y\n",
    "print(func_obj(5,4))"
   ]
  },
  {
   "cell_type": "code",
   "execution_count": 3,
   "metadata": {},
   "outputs": [
    {
     "name": "stdout",
     "output_type": "stream",
     "text": [
      "[2, 3, 4]\n",
      "[1, 4, 16, 64]\n",
      "[3, 6, 9, 12]\n"
     ]
    },
    {
     "data": {
      "text/plain": [
       "[3, 16, 9]"
      ]
     },
     "execution_count": 3,
     "metadata": {},
     "output_type": "execute_result"
    }
   ],
   "source": [
    "'''Find second largest element in every list'''\n",
    "l = [[2,3,4],[1, 4, 16, 64],[3, 6, 9, 12]]\n",
    "sorted_l=lambda x:(sorted(i) for i in x)\n",
    "for y in sorted_l(l):print(y)\n",
    "second_largest=lambda l,f:[i[len(i)-1-1] for i in f(l)]\n",
    "second_largest(l,sorted_l)"
   ]
  },
  {
   "cell_type": "markdown",
   "metadata": {},
   "source": [
    "**Using lambda with filter()**"
   ]
  },
  {
   "cell_type": "code",
   "execution_count": 4,
   "metadata": {},
   "outputs": [
    {
     "data": {
      "text/plain": [
       "[5, 7, 97, 77, 23, 73, 61]"
      ]
     },
     "execution_count": 4,
     "metadata": {},
     "output_type": "execute_result"
    }
   ],
   "source": [
    "'''Filter out all odd numbers using filter() and lambda function'''\n",
    "numbers = [5, 7, 22, 97, 54, 62, 77, 23, 73, 61]\n",
    " \n",
    "final_list = list(filter(lambda x: x % 2 != 0, numbers))\n",
    "(final_list)"
   ]
  },
  {
   "cell_type": "code",
   "execution_count": 6,
   "metadata": {},
   "outputs": [
    {
     "data": {
      "text/plain": [
       "[25, 19]"
      ]
     },
     "execution_count": 6,
     "metadata": {},
     "output_type": "execute_result"
    }
   ],
   "source": [
    "'''Filter all people having age more than 18, using lambda and filter() function'''\n",
    "ages = [10,25,15,18,19,5]\n",
    "adults =list(filter(lambda x:x>18,ages))\n",
    "adults "
   ]
  },
  {
   "cell_type": "markdown",
   "metadata": {},
   "source": [
    "**Using lambda with map()**"
   ]
  },
  {
   "cell_type": "code",
   "execution_count": 9,
   "metadata": {},
   "outputs": [
    {
     "name": "stdout",
     "output_type": "stream",
     "text": [
      "[10, 14, 44, 194, 108, 124, 154, 46, 146, 122]\n"
     ]
    }
   ],
   "source": [
    "'''Multiply all elements of a list by 2 using lambda and map() function'''\n",
    "mul_li = [5, 7, 22, 97, 54, 62, 77, 23, 73, 61]\n",
    "final_mul_li=list(map(lambda x:x*2,mul_li))\n",
    "print(final_mul_li)"
   ]
  },
  {
   "cell_type": "code",
   "execution_count": 10,
   "metadata": {},
   "outputs": [
    {
     "data": {
      "text/plain": [
       "['TANIYA', 'PERIWAL']"
      ]
     },
     "execution_count": 10,
     "metadata": {},
     "output_type": "execute_result"
    }
   ],
   "source": [
    "'''Transform all elements of a list to upper case using lambda and map() function'''\n",
    "upper_li=['taniya','Periwal']\n",
    "final_upper_li=list(map(lambda x:x.upper(),upper_li))\n",
    "final_upper_li"
   ]
  },
  {
   "cell_type": "markdown",
   "metadata": {},
   "source": [
    "**Using lambda with reduce()**"
   ]
  },
  {
   "cell_type": "code",
   "execution_count": 13,
   "metadata": {},
   "outputs": [
    {
     "data": {
      "text/plain": [
       "193"
      ]
     },
     "execution_count": 13,
     "metadata": {},
     "output_type": "execute_result"
    }
   ],
   "source": [
    "'''A sum of all elements in a list using lambda and reduce() function'''\n",
    "from functools import reduce\n",
    "li = [5, 8, 10, 20, 50, 100]\n",
    "sum_el=reduce(lambda x,y:x+y,li)\n",
    "sum_el"
   ]
  },
  {
   "cell_type": "code",
   "execution_count": 17,
   "metadata": {},
   "outputs": [
    {
     "name": "stdout",
     "output_type": "stream",
     "text": [
      "Max Element - 6\n"
     ]
    }
   ],
   "source": [
    "'''Find the maximum element in a list using lambda and reduce() function'''\n",
    "lis = [1, 3, 5, 6, 2, ]\n",
    "print('Max Element - ',end=\"\")\n",
    "max_ele=reduce(lambda x,y:x if x>y else y,lis)\n",
    "print(max_ele)"
   ]
  }
 ],
 "metadata": {
  "kernelspec": {
   "display_name": "Python 3",
   "language": "python",
   "name": "python3"
  },
  "language_info": {
   "codemirror_mode": {
    "name": "ipython",
    "version": 3
   },
   "file_extension": ".py",
   "mimetype": "text/x-python",
   "name": "python",
   "nbconvert_exporter": "python",
   "pygments_lexer": "ipython3",
   "version": "3.10.13"
  }
 },
 "nbformat": 4,
 "nbformat_minor": 2
}
